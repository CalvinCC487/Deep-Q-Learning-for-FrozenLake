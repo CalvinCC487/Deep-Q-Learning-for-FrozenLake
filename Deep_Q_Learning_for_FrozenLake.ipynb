{
  "nbformat": 4,
  "nbformat_minor": 0,
  "metadata": {
    "colab": {
      "name": "Deep Q-Learning for FrozenLake.ipynb",
      "provenance": [],
      "collapsed_sections": []
    },
    "kernelspec": {
      "name": "python3",
      "display_name": "Python 3"
    },
    "language_info": {
      "name": "python"
    }
  },
  "cells": [
    {
      "cell_type": "code",
      "execution_count": 1,
      "metadata": {
        "id": "6YIEBCpblJjb"
      },
      "outputs": [],
      "source": [
        "# Import OpenAI gym \n",
        "import gym"
      ]
    },
    {
      "cell_type": "code",
      "source": [
        "# Import Numpy\n",
        "import numpy as np"
      ],
      "metadata": {
        "id": "Ymcx-1b-JphK"
      },
      "execution_count": 2,
      "outputs": []
    },
    {
      "cell_type": "code",
      "source": [
        "# Make an FrozenLake-v0 game envirnoment which is not slippery\n",
        "env = gym.make('FrozenLake-v0', is_slippery = False)"
      ],
      "metadata": {
        "id": "-N1aSwyhmNtG"
      },
      "execution_count": 3,
      "outputs": []
    },
    {
      "cell_type": "code",
      "source": [
        "# Reset the environment \n",
        "env.reset() "
      ],
      "metadata": {
        "colab": {
          "base_uri": "https://localhost:8080/"
        },
        "id": "FeZXBnikJxMs",
        "outputId": "04066992-b85f-415d-9947-40f11a5bb4bb"
      },
      "execution_count": 4,
      "outputs": [
        {
          "output_type": "execute_result",
          "data": {
            "text/plain": [
              "0"
            ]
          },
          "metadata": {},
          "execution_count": 4
        }
      ]
    },
    {
      "cell_type": "code",
      "source": [
        "# Render the environment \n",
        "env.render()"
      ],
      "metadata": {
        "colab": {
          "base_uri": "https://localhost:8080/"
        },
        "id": "c3mOv69YKNRW",
        "outputId": "7475f6b2-960e-4060-d5ca-517f80066743"
      },
      "execution_count": 5,
      "outputs": [
        {
          "output_type": "stream",
          "name": "stdout",
          "text": [
            "\n",
            "\u001b[41mS\u001b[0mFFF\n",
            "FHFH\n",
            "FFFH\n",
            "HFFG\n"
          ]
        }
      ]
    },
    {
      "cell_type": "code",
      "source": [
        "# Show the size of states and the size of actions \n",
        "print(env.observation_space.n)\n",
        "print(env.action_space.n)"
      ],
      "metadata": {
        "colab": {
          "base_uri": "https://localhost:8080/"
        },
        "id": "B_5IycLRwdkA",
        "outputId": "96651bc9-3c91-4281-e122-2233f980ee47"
      },
      "execution_count": 6,
      "outputs": [
        {
          "output_type": "stream",
          "name": "stdout",
          "text": [
            "16\n",
            "4\n"
          ]
        }
      ]
    },
    {
      "cell_type": "code",
      "source": [
        "# Create and initialize the matrix of Q-values, which is named Q.\n",
        "Q = np.array(np.zeros([env.observation_space.n,env.action_space.n]))"
      ],
      "metadata": {
        "id": "V9atFov3s2zl"
      },
      "execution_count": 7,
      "outputs": []
    },
    {
      "cell_type": "code",
      "source": [
        "# Print Q\n",
        "print(Q)"
      ],
      "metadata": {
        "colab": {
          "base_uri": "https://localhost:8080/"
        },
        "id": "X-JDH2VPKcY3",
        "outputId": "bf4de314-a711-45a8-fdf3-b0463c13e7a9"
      },
      "execution_count": 8,
      "outputs": [
        {
          "output_type": "stream",
          "name": "stdout",
          "text": [
            "[[0. 0. 0. 0.]\n",
            " [0. 0. 0. 0.]\n",
            " [0. 0. 0. 0.]\n",
            " [0. 0. 0. 0.]\n",
            " [0. 0. 0. 0.]\n",
            " [0. 0. 0. 0.]\n",
            " [0. 0. 0. 0.]\n",
            " [0. 0. 0. 0.]\n",
            " [0. 0. 0. 0.]\n",
            " [0. 0. 0. 0.]\n",
            " [0. 0. 0. 0.]\n",
            " [0. 0. 0. 0.]\n",
            " [0. 0. 0. 0.]\n",
            " [0. 0. 0. 0.]\n",
            " [0. 0. 0. 0.]\n",
            " [0. 0. 0. 0.]]\n"
          ]
        }
      ]
    },
    {
      "cell_type": "code",
      "source": [
        "# Set the parameters alpha, gamma and the number of episodes (iterations) for Q-learning to be 0.6, 0.75 and 1000, respectively\n",
        "gamma = 0.75\n",
        "alpha = 0.6\n",
        "num_episodes= 1000"
      ],
      "metadata": {
        "id": "DjZ8feDKqk-T"
      },
      "execution_count": 9,
      "outputs": []
    },
    {
      "cell_type": "code",
      "source": [
        "# Training mode. Update the matrix of Q-values using the Bellman equation. \n",
        "import random\n",
        "for episode in range(num_episodes):\n",
        "    state = env.reset()\n",
        "    done = False\n",
        "    reward,total_rewards = 1,0\n",
        "    while done != True:\n",
        "        action = np.random.choice(env.action_space.n)\n",
        "        new_state, reward, done, info = env.step(action)\n",
        "        Q[state, action] = Q[state, action] +(reward + gamma * np.max(Q[new_state, :]) - Q[state, action])\n",
        "        total_rewards += reward\n",
        "        state = new_state"
      ],
      "metadata": {
        "id": "YIKZTgNhwWWy"
      },
      "execution_count": 10,
      "outputs": []
    },
    {
      "cell_type": "code",
      "source": [
        "# Print the Q table\n",
        "print(Q)   \n",
        "print(Q[14, 2])"
      ],
      "metadata": {
        "colab": {
          "base_uri": "https://localhost:8080/"
        },
        "id": "m7qoFvb-1gln",
        "outputId": "48673fdd-9c47-4fc2-9177-6a446cbd3b2d"
      },
      "execution_count": 11,
      "outputs": [
        {
          "output_type": "stream",
          "name": "stdout",
          "text": [
            "[[0.17797852 0.23730469 0.23730469 0.17797852]\n",
            " [0.17797852 0.         0.31640625 0.23730469]\n",
            " [0.23730469 0.421875   0.23730469 0.31640625]\n",
            " [0.31640625 0.         0.23730469 0.23730469]\n",
            " [0.23730469 0.31640625 0.         0.17797852]\n",
            " [0.         0.         0.         0.        ]\n",
            " [0.         0.5625     0.         0.31640625]\n",
            " [0.         0.         0.         0.        ]\n",
            " [0.31640625 0.         0.421875   0.23730469]\n",
            " [0.31640625 0.5625     0.5625     0.        ]\n",
            " [0.421875   0.75       0.         0.421875  ]\n",
            " [0.         0.         0.         0.        ]\n",
            " [0.         0.         0.         0.        ]\n",
            " [0.         0.5625     0.75       0.421875  ]\n",
            " [0.5625     0.75       1.         0.5625    ]\n",
            " [0.         0.         0.         0.        ]]\n",
            "1.0\n"
          ]
        }
      ]
    },
    {
      "cell_type": "code",
      "source": [
        "\"\"\" Inference Mode \n",
        "Utilize the updated matrix of Q-values above to find a route to move from S to G. \n",
        "The variable “route” is a list holding the states (in order) in the route. Initially, it holds just the state 0 as it starts at S. \n",
        "The variable “actions” is a list holding the actions done (in order) in moving along the route. Initially, it is empty.\n",
        "\"\"\"\n",
        "route = [0]\n",
        "actions = [ ]\n",
        "state = env.reset()\n",
        "step = 0\n",
        "done = False\n",
        "while done != True:\n",
        "    state = env.reset()\n",
        "    step = 0\n",
        "    for step in range(1000):\n",
        "        action = np.argmax(Q[state,:])\n",
        "        new_state, reward, done, info = env.step(action)\n",
        "        route.append(new_state)\n",
        "        actions.append(action)\n",
        "        if new_state == 15:\n",
        "          break\n",
        "        state = new_state"
      ],
      "metadata": {
        "id": "gCMY32sOK9oh"
      },
      "execution_count": 12,
      "outputs": []
    },
    {
      "cell_type": "code",
      "source": [
        "# Print the route and the actions to take \n",
        "print(route)\n",
        "print(actions)"
      ],
      "metadata": {
        "id": "UdhGPrBcNXu2",
        "colab": {
          "base_uri": "https://localhost:8080/"
        },
        "outputId": "fe19e2cb-fd64-4a0b-9ee8-433fd71cea81"
      },
      "execution_count": 13,
      "outputs": [
        {
          "output_type": "stream",
          "name": "stdout",
          "text": [
            "[0, 4, 8, 9, 13, 14, 15]\n",
            "[1, 1, 2, 1, 2, 2]\n"
          ]
        }
      ]
    },
    {
      "cell_type": "code",
      "source": [
        "# Display the states of the environment and the actions done, one after another, in moving along the route, starting from S to G.\n",
        "env.reset()\n",
        "env.render()\n",
        "for i in actions:\n",
        "  env.step(i)\n",
        "  env.render()"
      ],
      "metadata": {
        "id": "84buRg10XsA1",
        "colab": {
          "base_uri": "https://localhost:8080/"
        },
        "outputId": "ed7db791-a667-4d6c-c5db-b137a213628b"
      },
      "execution_count": 14,
      "outputs": [
        {
          "output_type": "stream",
          "name": "stdout",
          "text": [
            "\n",
            "\u001b[41mS\u001b[0mFFF\n",
            "FHFH\n",
            "FFFH\n",
            "HFFG\n",
            "  (Down)\n",
            "SFFF\n",
            "\u001b[41mF\u001b[0mHFH\n",
            "FFFH\n",
            "HFFG\n",
            "  (Down)\n",
            "SFFF\n",
            "FHFH\n",
            "\u001b[41mF\u001b[0mFFH\n",
            "HFFG\n",
            "  (Right)\n",
            "SFFF\n",
            "FHFH\n",
            "F\u001b[41mF\u001b[0mFH\n",
            "HFFG\n",
            "  (Down)\n",
            "SFFF\n",
            "FHFH\n",
            "FFFH\n",
            "H\u001b[41mF\u001b[0mFG\n",
            "  (Right)\n",
            "SFFF\n",
            "FHFH\n",
            "FFFH\n",
            "HF\u001b[41mF\u001b[0mG\n",
            "  (Right)\n",
            "SFFF\n",
            "FHFH\n",
            "FFFH\n",
            "HFF\u001b[41mG\u001b[0m\n"
          ]
        }
      ]
    }
  ]
}